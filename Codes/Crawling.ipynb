{
 "cells": [
  {
   "cell_type": "code",
   "execution_count": 7,
   "metadata": {},
   "outputs": [
    {
     "name": "stderr",
     "output_type": "stream",
     "text": [
      "<ipython-input-7-932d1832c04b>:5: DeprecationWarning: executable_path has been deprecated, please pass in a Service object\n",
      "  browser = webdriver.Firefox(executable_path=r'C:/Users/ml_xi/Desktop/乱七八糟的环境，插件/firefoxdriver/geckodriver.exe')\n"
     ]
    },
    {
     "name": "stdout",
     "output_type": "stream",
     "text": [
      "['3093.70']\n"
     ]
    }
   ],
   "source": [
    "from selenium import webdriver\n",
    "import re\n",
    "chrome_options = webdriver.ChromeOptions()\n",
    "chrome_options.add_argument('--headless')\n",
    "browser = webdriver.Firefox(executable_path=r'C:/Users/ml_xi/Desktop/乱七八糟的环境，插件/firefoxdriver/geckodriver.exe')\n",
    "browser.get('http://finance.sina.com.cn/realstock/company/sh000001/nc.shtml')\n",
    "data = browser.page_source\n",
    "browser.quit()\n",
    "p_price = '<div id=\"price\" class=\".*?\">(.*?)</div>'\n",
    "price = re.findall(p_price, data)\n",
    "print(price)  # 上证综合指数的股价"
   ]
  },
  {
   "cell_type": "code",
   "execution_count": 28,
   "metadata": {
    "scrolled": true
   },
   "outputs": [
    {
     "name": "stderr",
     "output_type": "stream",
     "text": [
      "<ipython-input-28-5f8fde9d0c1e>:4: DeprecationWarning: executable_path has been deprecated, please pass in a Service object\n",
      "  browser = webdriver.Firefox(executable_path=r'C:/Users/ml_xi/Desktop/乱七八糟的环境，插件/firefoxdriver/geckodriver.exe')\n"
     ]
    },
    {
     "name": "stdout",
     "output_type": "stream",
     "text": [
      "1.金融科技LOF：合煦智远基金管理有限公司关于调整旗下部分证券投资基金风险等级的公告 - \n",
      "\n",
      "http://www.cninfo.com.cn/new/disclosure/detail?orgId=gssz0000402&announcementId=1213335430&announcementTime=2022-05-13\" \n",
      "2.中储股份：中国国际金融股份有限公司关于中储发展股份有限公司收购报告书之2022年第一季度持续督导意见 - \n",
      "\n",
      "http://www.cninfo.com.cn/new/disclosure/detail?orgId=gssz0000402&announcementId=1213322851&announcementTime=2022-05-11 17:50\" \n",
      "3.扬电科技：关于向金融机构申请增加授信额度的公告 - \n",
      "\n",
      "http://www.cninfo.com.cn/new/disclosure/detail?orgId=gssz0000402&announcementId=1213322258&announcementTime=2022-05-11 17:12\" \n",
      "4.安克创新：中国国际金融股份有限公司关于安克创新科技股份有限公司《员工借款管理办法》的核查意见 - \n",
      "\n",
      "http://www.cninfo.com.cn/new/disclosure/detail?orgId=gssz0000402&announcementId=1213302688&announcementTime=2022-05-09 23:42\" \n",
      "5.华贸物流：中国国际金融股份有限公司关于港中旅华贸国际物流股份有限公司收购报告书之2022年第一季度持续督导意见 - \n",
      "\n",
      "http://www.cninfo.com.cn/new/disclosure/detail?orgId=gssz0000402&announcementId=1213283086&announcementTime=2022-05-06\" \n",
      "6.中天金融：关于召开公司2021年年度股东大会的提示性公告 - \n",
      "\n",
      "http://www.cninfo.com.cn/new/disclosure/detail?orgId=9900035744&announcementId=1213379984&announcementTime=2022-05-18\" \n",
      "7.时富金融服务集团：须予披露交易 - 购入上市证券 - \n",
      "\n",
      "http://www.cninfo.com.cn/new/disclosure/detail?orgId=gssh0600787&announcementId=1213380840&announcementTime=2022-05-18\" \n",
      "8.扬电科技：向金融机构申请增加票据贴息授信额度3亿元 - \n",
      "\n",
      "http://www.cninfo.com.cn/new/disclosure/detail?orgId=nssc1000094&announcementId=1213380763&announcementTime=2022-05-18\" \n",
      "9.汇联金融服务：除牌决定之覆核要求 - \n",
      "\n",
      "http://www.cninfo.com.cn/new/disclosure/detail?orgId=gfbj0839473&announcementId=1213384954&announcementTime=2022-05-18\" \n",
      "10.民生加银中债1-5年政策性金融债指数证券投资基金恢复大额申购、大额转换转入及大额定期定额投资的公告 - \n",
      "\n",
      "http://www.cninfo.com.cn/new/disclosure/detail?orgId=9900022718&announcementId=1213380738&announcementTime=2022-05-18\" \n"
     ]
    }
   ],
   "source": [
    "import re\n",
    "from selenium import webdriver\n",
    "def juchao(keyword):\n",
    "    browser = webdriver.Firefox(executable_path=r'C:/Users/ml_xi/Desktop/乱七八糟的环境，插件/firefoxdriver/geckodriver.exe')\n",
    "    url = 'http://www.cninfo.com.cn/new/fulltextSearch?notautosubmit=&keyWord=' + keyword\n",
    "    #url = 'https://www.business-standard.com/search?q=' + keyword\n",
    "    browser.get(url)\n",
    "    data = browser.page_source\n",
    "    browser.quit()\n",
    "    p_title = '<span title=\"\" class=\"r-title\">(.*?)</span>'\n",
    "    p_href = '<a target=\"_blank\" href=\"(.*?)data-id='\n",
    "    p_date = '<span class=\"time\">(.*?)</span>'\n",
    "    title = re.findall(p_title, data)\n",
    "    href = re.findall(p_href, data)\n",
    "    date = re.findall(p_date, data, re.S)\n",
    "    for i in range(len(title)):\n",
    "        title[i] = re.sub(r'<.*?>', '', title[i])\n",
    "        href[i] = 'http://www.cninfo.com.cn' + href[i]\n",
    "        #href[i] = 'https://www.business-standard.com' + href[i]\n",
    "        href[i] = re.sub('amp;', '', href[i])\n",
    "        date[i] = date[i].split(' ')[0]\n",
    "        print(str(i+1) + '.' + title[i] + ' - ' + date[i])\n",
    "        print(href[i])\n",
    "keywords = ['金融']\n",
    "for i in keywords:\n",
    "    juchao(i)"
   ]
  },
  {
   "cell_type": "code",
   "execution_count": null,
   "metadata": {},
   "outputs": [],
   "source": []
  }
 ],
 "metadata": {
  "kernelspec": {
   "display_name": "Python 3",
   "language": "python",
   "name": "python3"
  },
  "language_info": {
   "codemirror_mode": {
    "name": "ipython",
    "version": 3
   },
   "file_extension": ".py",
   "mimetype": "text/x-python",
   "name": "python",
   "nbconvert_exporter": "python",
   "pygments_lexer": "ipython3",
   "version": "3.7.1"
  }
 },
 "nbformat": 4,
 "nbformat_minor": 4
}
